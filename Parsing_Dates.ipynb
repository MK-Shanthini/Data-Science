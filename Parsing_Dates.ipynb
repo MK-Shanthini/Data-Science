{
  "nbformat": 4,
  "nbformat_minor": 0,
  "metadata": {
    "colab": {
      "name": "Parsing Dates.ipynb",
      "provenance": []
    },
    "kernelspec": {
      "name": "python3",
      "display_name": "Python 3"
    },
    "language_info": {
      "name": "python"
    }
  },
  "cells": [
    {
      "cell_type": "markdown",
      "metadata": {
        "id": "OqdVbXBMvHGG"
      },
      "source": [
        "#AUTHOR : SHANTHINI M K"
      ]
    },
    {
      "cell_type": "markdown",
      "metadata": {
        "id": "im0NYP0qvNzB"
      },
      "source": [
        "#Load the Libraries and datasets"
      ]
    },
    {
      "cell_type": "code",
      "metadata": {
        "id": "9LHQea6c355n"
      },
      "source": [
        "# modules we'll use\n",
        "import pandas as pd\n",
        "import numpy as np\n",
        "import seaborn as sns\n",
        "import datetime\n",
        "\n",
        "# read in our data\n",
        "earthquake = pd.read_csv(\"/content/database.csv\")\n",
        "\n",
        "# set seed for reproducibility\n",
        "np.random.seed(0)"
      ],
      "execution_count": 36,
      "outputs": []
    },
    {
      "cell_type": "code",
      "metadata": {
        "colab": {
          "base_uri": "https://localhost:8080/",
          "height": 428
        },
        "id": "Ff6HLdjB4IGo",
        "outputId": "1997473b-fc43-454c-cb65-aca7b0eba039"
      },
      "source": [
        "earthquake.head()\n"
      ],
      "execution_count": 29,
      "outputs": [
        {
          "output_type": "execute_result",
          "data": {
            "text/html": [
              "<div>\n",
              "<style scoped>\n",
              "    .dataframe tbody tr th:only-of-type {\n",
              "        vertical-align: middle;\n",
              "    }\n",
              "\n",
              "    .dataframe tbody tr th {\n",
              "        vertical-align: top;\n",
              "    }\n",
              "\n",
              "    .dataframe thead th {\n",
              "        text-align: right;\n",
              "    }\n",
              "</style>\n",
              "<table border=\"1\" class=\"dataframe\">\n",
              "  <thead>\n",
              "    <tr style=\"text-align: right;\">\n",
              "      <th></th>\n",
              "      <th>Date</th>\n",
              "      <th>Time</th>\n",
              "      <th>Latitude</th>\n",
              "      <th>Longitude</th>\n",
              "      <th>Type</th>\n",
              "      <th>Depth</th>\n",
              "      <th>Depth Error</th>\n",
              "      <th>Depth Seismic Stations</th>\n",
              "      <th>Magnitude</th>\n",
              "      <th>Magnitude Type</th>\n",
              "      <th>Magnitude Error</th>\n",
              "      <th>Magnitude Seismic Stations</th>\n",
              "      <th>Azimuthal Gap</th>\n",
              "      <th>Horizontal Distance</th>\n",
              "      <th>Horizontal Error</th>\n",
              "      <th>Root Mean Square</th>\n",
              "      <th>ID</th>\n",
              "      <th>Source</th>\n",
              "      <th>Location Source</th>\n",
              "      <th>Magnitude Source</th>\n",
              "      <th>Status</th>\n",
              "    </tr>\n",
              "  </thead>\n",
              "  <tbody>\n",
              "    <tr>\n",
              "      <th>0</th>\n",
              "      <td>1965-01-02 00:00:00</td>\n",
              "      <td>13:44:18</td>\n",
              "      <td>19.246</td>\n",
              "      <td>145.616</td>\n",
              "      <td>Earthquake</td>\n",
              "      <td>131.6</td>\n",
              "      <td>NaN</td>\n",
              "      <td>NaN</td>\n",
              "      <td>6.0</td>\n",
              "      <td>MW</td>\n",
              "      <td>NaN</td>\n",
              "      <td>NaN</td>\n",
              "      <td>NaN</td>\n",
              "      <td>NaN</td>\n",
              "      <td>NaN</td>\n",
              "      <td>NaN</td>\n",
              "      <td>ISCGEM860706</td>\n",
              "      <td>ISCGEM</td>\n",
              "      <td>ISCGEM</td>\n",
              "      <td>ISCGEM</td>\n",
              "      <td>Automatic</td>\n",
              "    </tr>\n",
              "    <tr>\n",
              "      <th>1</th>\n",
              "      <td>1965-01-04 00:00:00</td>\n",
              "      <td>11:29:49</td>\n",
              "      <td>1.863</td>\n",
              "      <td>127.352</td>\n",
              "      <td>Earthquake</td>\n",
              "      <td>80.0</td>\n",
              "      <td>NaN</td>\n",
              "      <td>NaN</td>\n",
              "      <td>5.8</td>\n",
              "      <td>MW</td>\n",
              "      <td>NaN</td>\n",
              "      <td>NaN</td>\n",
              "      <td>NaN</td>\n",
              "      <td>NaN</td>\n",
              "      <td>NaN</td>\n",
              "      <td>NaN</td>\n",
              "      <td>ISCGEM860737</td>\n",
              "      <td>ISCGEM</td>\n",
              "      <td>ISCGEM</td>\n",
              "      <td>ISCGEM</td>\n",
              "      <td>Automatic</td>\n",
              "    </tr>\n",
              "    <tr>\n",
              "      <th>2</th>\n",
              "      <td>1965-01-05 00:00:00</td>\n",
              "      <td>18:05:58</td>\n",
              "      <td>-20.579</td>\n",
              "      <td>-173.972</td>\n",
              "      <td>Earthquake</td>\n",
              "      <td>20.0</td>\n",
              "      <td>NaN</td>\n",
              "      <td>NaN</td>\n",
              "      <td>6.2</td>\n",
              "      <td>MW</td>\n",
              "      <td>NaN</td>\n",
              "      <td>NaN</td>\n",
              "      <td>NaN</td>\n",
              "      <td>NaN</td>\n",
              "      <td>NaN</td>\n",
              "      <td>NaN</td>\n",
              "      <td>ISCGEM860762</td>\n",
              "      <td>ISCGEM</td>\n",
              "      <td>ISCGEM</td>\n",
              "      <td>ISCGEM</td>\n",
              "      <td>Automatic</td>\n",
              "    </tr>\n",
              "    <tr>\n",
              "      <th>3</th>\n",
              "      <td>1965-01-08 00:00:00</td>\n",
              "      <td>18:49:43</td>\n",
              "      <td>-59.076</td>\n",
              "      <td>-23.557</td>\n",
              "      <td>Earthquake</td>\n",
              "      <td>15.0</td>\n",
              "      <td>NaN</td>\n",
              "      <td>NaN</td>\n",
              "      <td>5.8</td>\n",
              "      <td>MW</td>\n",
              "      <td>NaN</td>\n",
              "      <td>NaN</td>\n",
              "      <td>NaN</td>\n",
              "      <td>NaN</td>\n",
              "      <td>NaN</td>\n",
              "      <td>NaN</td>\n",
              "      <td>ISCGEM860856</td>\n",
              "      <td>ISCGEM</td>\n",
              "      <td>ISCGEM</td>\n",
              "      <td>ISCGEM</td>\n",
              "      <td>Automatic</td>\n",
              "    </tr>\n",
              "    <tr>\n",
              "      <th>4</th>\n",
              "      <td>1965-01-09 00:00:00</td>\n",
              "      <td>13:32:50</td>\n",
              "      <td>11.938</td>\n",
              "      <td>126.427</td>\n",
              "      <td>Earthquake</td>\n",
              "      <td>15.0</td>\n",
              "      <td>NaN</td>\n",
              "      <td>NaN</td>\n",
              "      <td>5.8</td>\n",
              "      <td>MW</td>\n",
              "      <td>NaN</td>\n",
              "      <td>NaN</td>\n",
              "      <td>NaN</td>\n",
              "      <td>NaN</td>\n",
              "      <td>NaN</td>\n",
              "      <td>NaN</td>\n",
              "      <td>ISCGEM860890</td>\n",
              "      <td>ISCGEM</td>\n",
              "      <td>ISCGEM</td>\n",
              "      <td>ISCGEM</td>\n",
              "      <td>Automatic</td>\n",
              "    </tr>\n",
              "  </tbody>\n",
              "</table>\n",
              "</div>"
            ],
            "text/plain": [
              "                  Date      Time  ...  Magnitude Source     Status\n",
              "0  1965-01-02 00:00:00  13:44:18  ...            ISCGEM  Automatic\n",
              "1  1965-01-04 00:00:00  11:29:49  ...            ISCGEM  Automatic\n",
              "2  1965-01-05 00:00:00  18:05:58  ...            ISCGEM  Automatic\n",
              "3  1965-01-08 00:00:00  18:49:43  ...            ISCGEM  Automatic\n",
              "4  1965-01-09 00:00:00  13:32:50  ...            ISCGEM  Automatic\n",
              "\n",
              "[5 rows x 21 columns]"
            ]
          },
          "metadata": {},
          "execution_count": 29
        }
      ]
    },
    {
      "cell_type": "code",
      "metadata": {
        "colab": {
          "base_uri": "https://localhost:8080/"
        },
        "id": "8oPJCoFE4OO-",
        "outputId": "9ccae1af-4450-4eb4-9cee-c339eec97027"
      },
      "source": [
        "# print the first few rows of the date column\n",
        "print(earthquake['Date'].head())"
      ],
      "execution_count": 30,
      "outputs": [
        {
          "output_type": "stream",
          "text": [
            "0    1965-01-02 00:00:00\n",
            "1    1965-01-04 00:00:00\n",
            "2    1965-01-05 00:00:00\n",
            "3    1965-01-08 00:00:00\n",
            "4    1965-01-09 00:00:00\n",
            "Name: Date, dtype: object\n"
          ],
          "name": "stdout"
        }
      ]
    },
    {
      "cell_type": "code",
      "metadata": {
        "colab": {
          "base_uri": "https://localhost:8080/"
        },
        "id": "f7jvao0C4ThW",
        "outputId": "536c7d87-683b-4817-c82f-7737d3b7a220"
      },
      "source": [
        "# check the data type of our date column\n",
        "earthquake['Date'].dtype"
      ],
      "execution_count": 31,
      "outputs": [
        {
          "output_type": "execute_result",
          "data": {
            "text/plain": [
              "dtype('O')"
            ]
          },
          "metadata": {},
          "execution_count": 31
        }
      ]
    },
    {
      "cell_type": "code",
      "metadata": {
        "colab": {
          "base_uri": "https://localhost:8080/",
          "height": 343
        },
        "id": "GkSWxjlA6zud",
        "outputId": "4920b5c2-fe8c-46f0-b4ab-3d1cd2f88fa1"
      },
      "source": [
        "earthquake[3378:3383]"
      ],
      "execution_count": 32,
      "outputs": [
        {
          "output_type": "execute_result",
          "data": {
            "text/html": [
              "<div>\n",
              "<style scoped>\n",
              "    .dataframe tbody tr th:only-of-type {\n",
              "        vertical-align: middle;\n",
              "    }\n",
              "\n",
              "    .dataframe tbody tr th {\n",
              "        vertical-align: top;\n",
              "    }\n",
              "\n",
              "    .dataframe thead th {\n",
              "        text-align: right;\n",
              "    }\n",
              "</style>\n",
              "<table border=\"1\" class=\"dataframe\">\n",
              "  <thead>\n",
              "    <tr style=\"text-align: right;\">\n",
              "      <th></th>\n",
              "      <th>Date</th>\n",
              "      <th>Time</th>\n",
              "      <th>Latitude</th>\n",
              "      <th>Longitude</th>\n",
              "      <th>Type</th>\n",
              "      <th>Depth</th>\n",
              "      <th>Depth Error</th>\n",
              "      <th>Depth Seismic Stations</th>\n",
              "      <th>Magnitude</th>\n",
              "      <th>Magnitude Type</th>\n",
              "      <th>Magnitude Error</th>\n",
              "      <th>Magnitude Seismic Stations</th>\n",
              "      <th>Azimuthal Gap</th>\n",
              "      <th>Horizontal Distance</th>\n",
              "      <th>Horizontal Error</th>\n",
              "      <th>Root Mean Square</th>\n",
              "      <th>ID</th>\n",
              "      <th>Source</th>\n",
              "      <th>Location Source</th>\n",
              "      <th>Magnitude Source</th>\n",
              "      <th>Status</th>\n",
              "    </tr>\n",
              "  </thead>\n",
              "  <tbody>\n",
              "    <tr>\n",
              "      <th>3378</th>\n",
              "      <td>1975-02-23 02:58:41+00:00</td>\n",
              "      <td>1975-02-23T02:58:41.000Z</td>\n",
              "      <td>8.017</td>\n",
              "      <td>124.075</td>\n",
              "      <td>Earthquake</td>\n",
              "      <td>623.0</td>\n",
              "      <td>NaN</td>\n",
              "      <td>NaN</td>\n",
              "      <td>5.6</td>\n",
              "      <td>MB</td>\n",
              "      <td>NaN</td>\n",
              "      <td>NaN</td>\n",
              "      <td>NaN</td>\n",
              "      <td>NaN</td>\n",
              "      <td>NaN</td>\n",
              "      <td>NaN</td>\n",
              "      <td>USP0000A09</td>\n",
              "      <td>US</td>\n",
              "      <td>US</td>\n",
              "      <td>US</td>\n",
              "      <td>Reviewed</td>\n",
              "    </tr>\n",
              "    <tr>\n",
              "      <th>3379</th>\n",
              "      <td>1975-02-23 00:00:00</td>\n",
              "      <td>03:53:36</td>\n",
              "      <td>-21.727</td>\n",
              "      <td>-71.356</td>\n",
              "      <td>Earthquake</td>\n",
              "      <td>33.0</td>\n",
              "      <td>NaN</td>\n",
              "      <td>NaN</td>\n",
              "      <td>5.6</td>\n",
              "      <td>MB</td>\n",
              "      <td>NaN</td>\n",
              "      <td>NaN</td>\n",
              "      <td>NaN</td>\n",
              "      <td>NaN</td>\n",
              "      <td>NaN</td>\n",
              "      <td>NaN</td>\n",
              "      <td>USP0000A0A</td>\n",
              "      <td>US</td>\n",
              "      <td>US</td>\n",
              "      <td>US</td>\n",
              "      <td>Reviewed</td>\n",
              "    </tr>\n",
              "    <tr>\n",
              "      <th>3380</th>\n",
              "      <td>1975-02-23 00:00:00</td>\n",
              "      <td>07:34:11</td>\n",
              "      <td>-10.879</td>\n",
              "      <td>166.667</td>\n",
              "      <td>Earthquake</td>\n",
              "      <td>33.0</td>\n",
              "      <td>NaN</td>\n",
              "      <td>NaN</td>\n",
              "      <td>5.5</td>\n",
              "      <td>MS</td>\n",
              "      <td>NaN</td>\n",
              "      <td>NaN</td>\n",
              "      <td>NaN</td>\n",
              "      <td>NaN</td>\n",
              "      <td>NaN</td>\n",
              "      <td>NaN</td>\n",
              "      <td>USP0000A0C</td>\n",
              "      <td>US</td>\n",
              "      <td>US</td>\n",
              "      <td>US</td>\n",
              "      <td>Reviewed</td>\n",
              "    </tr>\n",
              "    <tr>\n",
              "      <th>3381</th>\n",
              "      <td>1975-02-25 00:00:00</td>\n",
              "      <td>05:20:05</td>\n",
              "      <td>-7.388</td>\n",
              "      <td>149.798</td>\n",
              "      <td>Earthquake</td>\n",
              "      <td>33.0</td>\n",
              "      <td>NaN</td>\n",
              "      <td>NaN</td>\n",
              "      <td>5.5</td>\n",
              "      <td>MB</td>\n",
              "      <td>NaN</td>\n",
              "      <td>NaN</td>\n",
              "      <td>NaN</td>\n",
              "      <td>NaN</td>\n",
              "      <td>NaN</td>\n",
              "      <td>NaN</td>\n",
              "      <td>USP0000A12</td>\n",
              "      <td>US</td>\n",
              "      <td>US</td>\n",
              "      <td>US</td>\n",
              "      <td>Reviewed</td>\n",
              "    </tr>\n",
              "    <tr>\n",
              "      <th>3382</th>\n",
              "      <td>1975-02-26 00:00:00</td>\n",
              "      <td>04:48:55</td>\n",
              "      <td>85.047</td>\n",
              "      <td>97.969</td>\n",
              "      <td>Earthquake</td>\n",
              "      <td>33.0</td>\n",
              "      <td>NaN</td>\n",
              "      <td>NaN</td>\n",
              "      <td>5.6</td>\n",
              "      <td>MS</td>\n",
              "      <td>NaN</td>\n",
              "      <td>NaN</td>\n",
              "      <td>NaN</td>\n",
              "      <td>NaN</td>\n",
              "      <td>NaN</td>\n",
              "      <td>NaN</td>\n",
              "      <td>USP0000A1H</td>\n",
              "      <td>US</td>\n",
              "      <td>US</td>\n",
              "      <td>US</td>\n",
              "      <td>Reviewed</td>\n",
              "    </tr>\n",
              "  </tbody>\n",
              "</table>\n",
              "</div>"
            ],
            "text/plain": [
              "                           Date  ...    Status\n",
              "3378  1975-02-23 02:58:41+00:00  ...  Reviewed\n",
              "3379        1975-02-23 00:00:00  ...  Reviewed\n",
              "3380        1975-02-23 00:00:00  ...  Reviewed\n",
              "3381        1975-02-25 00:00:00  ...  Reviewed\n",
              "3382        1975-02-26 00:00:00  ...  Reviewed\n",
              "\n",
              "[5 rows x 21 columns]"
            ]
          },
          "metadata": {},
          "execution_count": 32
        }
      ]
    },
    {
      "cell_type": "code",
      "metadata": {
        "colab": {
          "base_uri": "https://localhost:8080/"
        },
        "id": "JdLFL3Wl7RJc",
        "outputId": "6698e053-8cc9-4d30-a5c3-5f805117ea21"
      },
      "source": [
        "date_lengths = earthquake.Date.str.len()\n",
        "date_lengths.value_counts()"
      ],
      "execution_count": 38,
      "outputs": [
        {
          "output_type": "execute_result",
          "data": {
            "text/plain": [
              "10    23409\n",
              "24        3\n",
              "Name: Date, dtype: int64"
            ]
          },
          "metadata": {},
          "execution_count": 38
        }
      ]
    },
    {
      "cell_type": "code",
      "metadata": {
        "colab": {
          "base_uri": "https://localhost:8080/",
          "height": 264
        },
        "id": "kHTHPyBm7ezB",
        "outputId": "10ae8146-e1a9-47c3-8f69-010cfb7db5fb"
      },
      "source": [
        "indices = np.where([date_lengths == 24])[1]\n",
        "print('Indices with corrupted data:', indices)\n",
        "earthquake.loc[indices]"
      ],
      "execution_count": 39,
      "outputs": [
        {
          "output_type": "stream",
          "text": [
            "Indices with corrupted data: [ 3378  7512 20650]\n"
          ],
          "name": "stdout"
        },
        {
          "output_type": "execute_result",
          "data": {
            "text/html": [
              "<div>\n",
              "<style scoped>\n",
              "    .dataframe tbody tr th:only-of-type {\n",
              "        vertical-align: middle;\n",
              "    }\n",
              "\n",
              "    .dataframe tbody tr th {\n",
              "        vertical-align: top;\n",
              "    }\n",
              "\n",
              "    .dataframe thead th {\n",
              "        text-align: right;\n",
              "    }\n",
              "</style>\n",
              "<table border=\"1\" class=\"dataframe\">\n",
              "  <thead>\n",
              "    <tr style=\"text-align: right;\">\n",
              "      <th></th>\n",
              "      <th>Date</th>\n",
              "      <th>Time</th>\n",
              "      <th>Latitude</th>\n",
              "      <th>Longitude</th>\n",
              "      <th>Type</th>\n",
              "      <th>Depth</th>\n",
              "      <th>Depth Error</th>\n",
              "      <th>Depth Seismic Stations</th>\n",
              "      <th>Magnitude</th>\n",
              "      <th>Magnitude Type</th>\n",
              "      <th>Magnitude Error</th>\n",
              "      <th>Magnitude Seismic Stations</th>\n",
              "      <th>Azimuthal Gap</th>\n",
              "      <th>Horizontal Distance</th>\n",
              "      <th>Horizontal Error</th>\n",
              "      <th>Root Mean Square</th>\n",
              "      <th>ID</th>\n",
              "      <th>Source</th>\n",
              "      <th>Location Source</th>\n",
              "      <th>Magnitude Source</th>\n",
              "      <th>Status</th>\n",
              "    </tr>\n",
              "  </thead>\n",
              "  <tbody>\n",
              "    <tr>\n",
              "      <th>3378</th>\n",
              "      <td>1975-02-23T02:58:41.000Z</td>\n",
              "      <td>1975-02-23T02:58:41.000Z</td>\n",
              "      <td>8.017</td>\n",
              "      <td>124.075</td>\n",
              "      <td>Earthquake</td>\n",
              "      <td>623.0</td>\n",
              "      <td>NaN</td>\n",
              "      <td>NaN</td>\n",
              "      <td>5.6</td>\n",
              "      <td>MB</td>\n",
              "      <td>NaN</td>\n",
              "      <td>NaN</td>\n",
              "      <td>NaN</td>\n",
              "      <td>NaN</td>\n",
              "      <td>NaN</td>\n",
              "      <td>NaN</td>\n",
              "      <td>USP0000A09</td>\n",
              "      <td>US</td>\n",
              "      <td>US</td>\n",
              "      <td>US</td>\n",
              "      <td>Reviewed</td>\n",
              "    </tr>\n",
              "    <tr>\n",
              "      <th>7512</th>\n",
              "      <td>1985-04-28T02:53:41.530Z</td>\n",
              "      <td>1985-04-28T02:53:41.530Z</td>\n",
              "      <td>-32.998</td>\n",
              "      <td>-71.766</td>\n",
              "      <td>Earthquake</td>\n",
              "      <td>33.0</td>\n",
              "      <td>NaN</td>\n",
              "      <td>NaN</td>\n",
              "      <td>5.6</td>\n",
              "      <td>MW</td>\n",
              "      <td>NaN</td>\n",
              "      <td>NaN</td>\n",
              "      <td>NaN</td>\n",
              "      <td>NaN</td>\n",
              "      <td>NaN</td>\n",
              "      <td>1.30</td>\n",
              "      <td>USP0002E81</td>\n",
              "      <td>US</td>\n",
              "      <td>US</td>\n",
              "      <td>HRV</td>\n",
              "      <td>Reviewed</td>\n",
              "    </tr>\n",
              "    <tr>\n",
              "      <th>20650</th>\n",
              "      <td>2011-03-13T02:23:34.520Z</td>\n",
              "      <td>2011-03-13T02:23:34.520Z</td>\n",
              "      <td>36.344</td>\n",
              "      <td>142.344</td>\n",
              "      <td>Earthquake</td>\n",
              "      <td>10.1</td>\n",
              "      <td>13.9</td>\n",
              "      <td>289.0</td>\n",
              "      <td>5.8</td>\n",
              "      <td>MWC</td>\n",
              "      <td>NaN</td>\n",
              "      <td>NaN</td>\n",
              "      <td>32.3</td>\n",
              "      <td>NaN</td>\n",
              "      <td>NaN</td>\n",
              "      <td>1.06</td>\n",
              "      <td>USP000HWQP</td>\n",
              "      <td>US</td>\n",
              "      <td>US</td>\n",
              "      <td>GCMT</td>\n",
              "      <td>Reviewed</td>\n",
              "    </tr>\n",
              "  </tbody>\n",
              "</table>\n",
              "</div>"
            ],
            "text/plain": [
              "                           Date  ...    Status\n",
              "3378   1975-02-23T02:58:41.000Z  ...  Reviewed\n",
              "7512   1985-04-28T02:53:41.530Z  ...  Reviewed\n",
              "20650  2011-03-13T02:23:34.520Z  ...  Reviewed\n",
              "\n",
              "[3 rows x 21 columns]"
            ]
          },
          "metadata": {},
          "execution_count": 39
        }
      ]
    },
    {
      "cell_type": "code",
      "metadata": {
        "colab": {
          "base_uri": "https://localhost:8080/"
        },
        "id": "c4uRjTxB4X2B",
        "outputId": "fa82aa32-728d-4dd7-ba95-5793911ae2e3"
      },
      "source": [
        "# create a new column, date_parsed, with the parsed dates\n",
        "\n",
        "earthquake['date_parsed'] = pd.to_datetime(earthquake['Date'],format = \"%m/%d/%y\",infer_datetime_format=True)\n",
        "\n",
        "earthquake['date_parsed'].head()"
      ],
      "execution_count": 50,
      "outputs": [
        {
          "output_type": "execute_result",
          "data": {
            "text/plain": [
              "0    1965-01-02 00:00:00\n",
              "1    1965-01-04 00:00:00\n",
              "2    1965-01-05 00:00:00\n",
              "3    1965-01-08 00:00:00\n",
              "4    1965-01-09 00:00:00\n",
              "Name: date_parsed, dtype: object"
            ]
          },
          "metadata": {},
          "execution_count": 50
        }
      ]
    }
  ]
}