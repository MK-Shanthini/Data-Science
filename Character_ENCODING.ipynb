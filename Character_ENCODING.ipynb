{
  "nbformat": 4,
  "nbformat_minor": 0,
  "metadata": {
    "kernelspec": {
      "display_name": "Python 3",
      "language": "python",
      "name": "python3"
    },
    "language_info": {
      "name": "python",
      "version": "3.7.10",
      "mimetype": "text/x-python",
      "codemirror_mode": {
        "name": "ipython",
        "version": 3
      },
      "pygments_lexer": "ipython3",
      "nbconvert_exporter": "python",
      "file_extension": ".py"
    },
    "colab": {
      "name": "Character ENCODING.ipynb",
      "provenance": []
    }
  },
  "cells": [
    {
      "cell_type": "markdown",
      "metadata": {
        "id": "KBTxBlLo5MCZ"
      },
      "source": [
        "**This notebook is an exercise in the [Data Cleaning](https://www.kaggle.com/learn/data-cleaning) course.  You can reference the tutorial at [this link](https://www.kaggle.com/alexisbcook/character-encodings).**\n",
        "\n",
        "---\n"
      ]
    },
    {
      "cell_type": "markdown",
      "metadata": {
        "id": "dwFiWIT15MCd"
      },
      "source": [
        "In this exercise, you'll apply what you learned in the **Character encodings** tutorial.\n",
        "\n",
        "# Setup\n",
        "\n",
        "The questions below will give you feedback on your work. Run the following cell to set up the feedback system."
      ]
    },
    {
      "cell_type": "code",
      "metadata": {
        "id": "OjjB5M9d5MCi"
      },
      "source": [
        "from learntools.core import binder\n",
        "binder.bind(globals())\n",
        "from learntools.data_cleaning.ex4 import *\n",
        "print(\"Setup Complete\")"
      ],
      "execution_count": null,
      "outputs": []
    },
    {
      "cell_type": "markdown",
      "metadata": {
        "id": "3ajqI2xi5MCl"
      },
      "source": [
        "# Get our environment set up\n",
        "\n",
        "The first thing we'll need to do is load in the libraries we'll be using."
      ]
    },
    {
      "cell_type": "code",
      "metadata": {
        "execution": {
          "iopub.status.busy": "2021-08-19T10:03:15.470736Z",
          "iopub.execute_input": "2021-08-19T10:03:15.471158Z",
          "iopub.status.idle": "2021-08-19T10:03:15.475778Z",
          "shell.execute_reply.started": "2021-08-19T10:03:15.471109Z",
          "shell.execute_reply": "2021-08-19T10:03:15.474756Z"
        },
        "trusted": true,
        "id": "C11pIdA_5MCn"
      },
      "source": [
        "# modules we'll use\n",
        "import pandas as pd\n",
        "import numpy as np\n",
        "\n",
        "# helpful character encoding module\n",
        "import chardet\n",
        "\n",
        "# set seed for reproducibility\n",
        "np.random.seed(0)"
      ],
      "execution_count": null,
      "outputs": []
    },
    {
      "cell_type": "markdown",
      "metadata": {
        "id": "KOzOkgZR5MCo"
      },
      "source": [
        "# 1) What are encodings?\n",
        "\n",
        "You're working with a dataset composed of bytes.  Run the code cell below to print a sample entry."
      ]
    },
    {
      "cell_type": "code",
      "metadata": {
        "execution": {
          "iopub.status.busy": "2021-08-19T10:00:09.365427Z",
          "iopub.execute_input": "2021-08-19T10:00:09.366232Z",
          "iopub.status.idle": "2021-08-19T10:00:09.381828Z",
          "shell.execute_reply.started": "2021-08-19T10:00:09.366106Z",
          "shell.execute_reply": "2021-08-19T10:00:09.380551Z"
        },
        "trusted": true,
        "id": "p8v2JVfP5MCq",
        "outputId": "20bd4e8e-8bfe-4db8-9319-5254167c49eb"
      },
      "source": [
        "sample_entry = b'\\xa7A\\xa6n'\n",
        "print(sample_entry)\n",
        "print('data type:', type(sample_entry))"
      ],
      "execution_count": null,
      "outputs": [
        {
          "name": "stdout",
          "text": "b'\\xa7A\\xa6n'\ndata type: <class 'bytes'>\n",
          "output_type": "stream"
        }
      ]
    },
    {
      "cell_type": "markdown",
      "metadata": {
        "id": "MMEw_sVo5MCv"
      },
      "source": [
        "You notice that it doesn't use the standard UTF-8 encoding. \n",
        "\n",
        "Use the next code cell to create a variable `new_entry` that changes the encoding from `\"big5-tw\"` to `\"utf-8\"`.  `new_entry` should have the bytes datatype."
      ]
    },
    {
      "cell_type": "code",
      "metadata": {
        "execution": {
          "iopub.status.busy": "2021-08-19T10:02:08.645594Z",
          "iopub.execute_input": "2021-08-19T10:02:08.646230Z",
          "iopub.status.idle": "2021-08-19T10:02:08.656305Z",
          "shell.execute_reply.started": "2021-08-19T10:02:08.646180Z",
          "shell.execute_reply": "2021-08-19T10:02:08.655297Z"
        },
        "trusted": true,
        "id": "3Ieo1h985MCx",
        "outputId": "3c18a3d6-9d38-4b98-d97f-3200a1d0f1aa"
      },
      "source": [
        "new_entry =sample_entry.decode(\"utf-8\", errors=\"replace\")\n",
        "type(new_entry)\n",
        "\n"
      ],
      "execution_count": null,
      "outputs": [
        {
          "execution_count": 6,
          "output_type": "execute_result",
          "data": {
            "text/plain": "str"
          },
          "metadata": {}
        }
      ]
    },
    {
      "cell_type": "code",
      "metadata": {
        "id": "xUFvyCJx5MC1"
      },
      "source": [
        "# Lines below will give you a hint or solution code\n",
        "#q1.hint()\n",
        "#q1.solution()"
      ],
      "execution_count": null,
      "outputs": []
    },
    {
      "cell_type": "markdown",
      "metadata": {
        "id": "UccXk_ZN5MC2"
      },
      "source": [
        "# 2) Reading in files with encoding problems\n",
        "\n",
        "Use the code cell below to read in this file at path `\"../input/fatal-police-shootings-in-the-us/PoliceKillingsUS.csv\"`.  \n",
        "\n",
        "Figure out what the correct encoding should be and read in the file to a DataFrame `police_killings`."
      ]
    },
    {
      "cell_type": "code",
      "metadata": {
        "execution": {
          "iopub.status.busy": "2021-08-19T10:03:26.610504Z",
          "iopub.execute_input": "2021-08-19T10:03:26.610942Z",
          "iopub.status.idle": "2021-08-19T10:03:26.630452Z",
          "shell.execute_reply.started": "2021-08-19T10:03:26.610906Z",
          "shell.execute_reply": "2021-08-19T10:03:26.629459Z"
        },
        "trusted": true,
        "id": "dSL3fQHX5MC3"
      },
      "source": [
        "# TODO: Load in the DataFrame correctly.\n",
        "police_killings = pd.read_csv(\"../input/fatal-police-shootings-in-the-us/PoliceKillingsUS.csv\")\n",
        "\n"
      ],
      "execution_count": null,
      "outputs": []
    },
    {
      "cell_type": "markdown",
      "metadata": {
        "id": "r0n5UsmL5MC4"
      },
      "source": [
        "Feel free to use any additional code cells for supplemental work.  To get credit for finishing this question, you'll need to run `q2.check()` and get a result of **Correct**."
      ]
    },
    {
      "cell_type": "markdown",
      "metadata": {
        "id": "0djVgVCp5MC7"
      },
      "source": [
        "# 3) Saving your files with UTF-8 encoding\n",
        "\n",
        "Save a version of the police killings dataset to CSV with UTF-8 encoding.  Your answer will be marked correct after saving this file.  \n",
        "\n",
        "Note: When using the `to_csv()` method, supply only the name of the file (e.g., `\"my_file.csv\"`).  This saves the file at the filepath `\"/kaggle/working/my_file.csv\"`."
      ]
    },
    {
      "cell_type": "code",
      "metadata": {
        "execution": {
          "iopub.status.busy": "2021-08-19T10:07:20.371402Z",
          "iopub.execute_input": "2021-08-19T10:07:20.371806Z",
          "iopub.status.idle": "2021-08-19T10:07:20.401268Z",
          "shell.execute_reply.started": "2021-08-19T10:07:20.371771Z",
          "shell.execute_reply": "2021-08-19T10:07:20.400281Z"
        },
        "trusted": true,
        "id": "SE0JY4Hv5MC8"
      },
      "source": [
        "# TODO: Save the police killings dataset to CSV\n",
        "police_killings.to_csv(\"police_killings-utf8.csv\")"
      ],
      "execution_count": null,
      "outputs": []
    },
    {
      "cell_type": "markdown",
      "metadata": {
        "id": "iX5ILNDc5MC9"
      },
      "source": [
        "# (Optional) More practice\n",
        "\n",
        "Check out [this dataset of files in different character encodings](https://www.kaggle.com/rtatman/character-encoding-examples). Can you read in all the files with their original encodings and them save them out as UTF-8 files?\n",
        "\n",
        "If you have a file that's in UTF-8 but has just a couple of weird-looking characters in it, you can try out the [ftfy module](https://ftfy.readthedocs.io/en/latest/#) and see if it helps. \n",
        "\n",
        "# Keep going\n",
        "\n",
        "In the final lesson, learn how to [**clean up inconsistent text entries**](https://www.kaggle.com/alexisbcook/inconsistent-data-entry) in your dataset."
      ]
    },
    {
      "cell_type": "markdown",
      "metadata": {
        "id": "Yy8BQld25MC-"
      },
      "source": [
        "---\n",
        "\n",
        "\n",
        "\n",
        "\n",
        "*Have questions or comments? Visit the [Learn Discussion forum](https://www.kaggle.com/learn-forum/172650) to chat with other Learners.*"
      ]
    }
  ]
}